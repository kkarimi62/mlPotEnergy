{
 "cells": [
  {
   "cell_type": "markdown",
   "metadata": {},
   "source": [
    "# import libraries"
   ]
  },
  {
   "cell_type": "code",
   "execution_count": 1,
   "metadata": {},
   "outputs": [],
   "source": [
    "#--- system libraries\n",
    "import pdb\n",
    "import pandas as pd\n",
    "import numpy as np\n",
    "import matplotlib.pylab as plt\n",
    "import matplotlib as mpl\n",
    "import traceback\n",
    "import os\n",
    "import scipy.interpolate as scp_int\n",
    "import warnings\n",
    "import matplotlib\n",
    "from matplotlib.ticker import (MultipleLocator, AutoMinorLocator)\n",
    "from matplotlib import patches\n",
    "import sys\n",
    "import sklearn\n",
    "from sklearn.preprocessing import PolynomialFeatures\n",
    "from sklearn.linear_model import LinearRegression\n",
    "from sklearn.model_selection import cross_validate\n",
    "import patsy\n",
    "import sklearn\n",
    "from sklearn import linear_model, mixture\n",
    "import sklearn.mixture as skm\n",
    "from scipy import optimize\n",
    "import scipy\n",
    "import re\n",
    "from scipy.stats import norm, kurtosis\n",
    "from pandas.plotting import scatter_matrix\n",
    "from scipy.ndimage import gaussian_filter\n",
    "import time\n",
    "from scipy import ndimage\n",
    "from scipy.stats import chi2\n",
    "from scipy.optimize import curve_fit\n",
    "#\n",
    "warnings.filterwarnings('ignore')\n",
    "\n",
    "#--- user modules\n",
    "from utilFuncs import *\n",
    "import mdspy as lp\n",
    "import imp\n",
    "imp.reload(lp)\n",
    "\n",
    "#--- \n",
    "matplotlib.rcParams['text.usetex'] = True #--- comment tex stuff!"
   ]
  },
  {
   "cell_type": "markdown",
   "metadata": {},
   "source": [
    "# Parameters"
   ]
  },
  {
   "cell_type": "code",
   "execution_count": 4,
   "metadata": {},
   "outputs": [],
   "source": [
    "#--- to be modified by users\n",
    "\n",
    "#\n",
    "NeighList = True\n",
    "#\n",
    "Ovitos = True #--- don't change!\n",
    "#\n",
    "nevery = 1 #--- proc. every n times\n",
    "#\n",
    "ml = True; ReadDisc = False; WritDisc = True\n",
    "#\n",
    "\n",
    "#--- input directory\n",
    "path = '../examples/neighlist'\n",
    "\n",
    "#--- input file (lammps dump file)\n",
    "fileName = '%s/lmp.dump'%path\n"
   ]
  },
  {
   "cell_type": "markdown",
   "metadata": {},
   "source": [
    "\n",
    "## Dump File"
   ]
  },
  {
   "cell_type": "code",
   "execution_count": 3,
   "metadata": {},
   "outputs": [
    {
     "name": "stdout",
     "output_type": "stream",
     "text": [
      "parsing ../examples/neighlist/lmp.dump\n",
      "duration=1.4876530170440674 s\n"
     ]
    }
   ],
   "source": [
    "#--- parse lammps dump files \n",
    "print('parsing %s'%fileName)\n",
    "t0 = time.time()\n",
    "lmpData = lp.ReadDumpFile( fileName )\n",
    "lmpData.GetCords( ncount = sys.maxsize, \n",
    "#                 columns = {'c_mystress[4]':'sxy'},\n",
    "                )\n",
    "print('duration=%s s'%(time.time()-t0))"
   ]
  },
  {
   "cell_type": "code",
   "execution_count": 5,
   "metadata": {},
   "outputs": [
    {
     "data": {
      "text/plain": [
       "dict_keys([0, 10000])"
      ]
     },
     "execution_count": 5,
     "metadata": {},
     "output_type": "execute_result"
    }
   ],
   "source": [
    "#--- timesteps\n",
    "lmpData.coord_atoms_broken.keys()"
   ]
  },
  {
   "cell_type": "markdown",
   "metadata": {},
   "source": [
    "# Neighbor list"
   ]
  },
  {
   "cell_type": "code",
   "execution_count": null,
   "metadata": {},
   "outputs": [
    {
     "name": "stdout",
     "output_type": "stream",
     "text": [
      "rm: neighList.xyz: No such file or directory\n",
      "InputFile= ../examples/neighlist/lmp.dump\n",
      "num_frames= 2\n",
      "frame=0\n",
      "frame=1\n"
     ]
    }
   ],
   "source": [
    "if NeighList:\n",
    "    try:\n",
    "        !rm neighList.xyz\n",
    "    except:\n",
    "        pass\n",
    "\n",
    "    #--- set the cut-off distance\n",
    "    cutoff=5.0\n",
    "    \n",
    "    #--- build neighbor list\n",
    "    !ovitos OvitosCna.py $fileName neighList.xyz $nevery 4 $cutoff\n",
    "    \n",
    "    #--- parse\n",
    "    lmpNeigh = lp.ReadDumpFile( 'neighList.xyz' )\n",
    "    lmpNeigh.GetCords( ncount = sys.maxsize)\n",
    "    !rm neighList.xyz    \n"
   ]
  },
  {
   "cell_type": "code",
   "execution_count": null,
   "metadata": {},
   "outputs": [],
   "source": [
    "itime = 10000\n",
    "lmpNeigh.coord_atoms_broken[itime].head()"
   ]
  },
  {
   "cell_type": "markdown",
   "metadata": {},
   "source": [
    "# Machine learning"
   ]
  },
  {
   "cell_type": "markdown",
   "metadata": {},
   "source": [
    "* NeighList = True #--- build neighbor list \n"
   ]
  },
  {
   "cell_type": "markdown",
   "metadata": {},
   "source": [
    "## Descriptors"
   ]
  },
  {
   "cell_type": "code",
   "execution_count": 28,
   "metadata": {
    "scrolled": false
   },
   "outputs": [
    {
     "name": "stdout",
     "output_type": "stream",
     "text": [
      "num(radial features)=28\n",
      "radial struct t=1374.1252117156982 s\n",
      "structFuncRad.shape= (50688, 28)\n"
     ]
    }
   ],
   "source": [
    "def GetAttribute(df,rbar,sigma):\n",
    "    sigma2=sigma*sigma\n",
    "    rho=df.apply(lambda x: np.exp(-0.5*(x.DIST-rbar)**2/sigma2),axis=1) #--- Eq 5 in Ma et al. Materials Today 40 (2020)\n",
    "    #---\n",
    "    tmp=pd.DataFrame(np.c_[df.id,rho],columns=['id','rho'])\n",
    "    tmp_sum=tmp.groupby(by='id').rho.agg(np.sum)\n",
    "    return np.array(tmp_sum)\n",
    "\n",
    "\n",
    "if ml:\n",
    "    \n",
    "    #--- structure function\n",
    "    if not ReadDisc:\n",
    "        df = lmpNeigh.coord_atoms_broken[itime] #--- ref. state!!\n",
    "\n",
    "        #--- radial dunction: eq 1. in Marinica et al. \n",
    "        \n",
    "        #--- set parameters\n",
    "        rpeak = 2.5 #--- r associated with the 1st peak in g(r)\n",
    "        sigma=0.05*rpeak #--- annulus thickness\n",
    "        \n",
    "        #--- annulus radii\n",
    "        rbars = np.arange(0.6*rpeak,cutoff,sigma)\n",
    "        #\n",
    "        print('num(radial features)=%s'%(len(rbars)))\n",
    "        t0=time.time()    \n",
    "        structFuncRad = np.array(list(map(lambda x:GetAttribute(df,x,sigma),rbars))).T #--- attribute matrix\n",
    "        print('radial struct t=%s s'%(time.time()-t0))\n",
    "        print('structFuncRad.shape=',structFuncRad.shape)\n",
    "\n",
    "#         #--- angular term\n",
    "#         cutoffAng = 4.5 #--- 2nd peak\n",
    "        \n",
    "#         #--- filter df: decrease cutoff distance for the anglular analysis\n",
    "#         df_filtrd = df[df['DIST']<cutoffAng]\n",
    "#         df_filtrd.reset_index(drop=True,inplace=True)\n",
    "        \n",
    "#         #---\n",
    "#         t0=time.time()\n",
    "# #         pdb.set_trace()\n",
    "#         angst = lp.AngularStruct(df_filtrd)\n",
    "#         angst.GetDistAngle()\n",
    "#         print('assemble triplets t=%s s'%(time.time()-t0))\n",
    "#         #--- set params. list\n",
    "#         deltas = np.arange(0.6*rpeak,cutoffAng,3.0*sigma)\n",
    "#         b=np.array([1.0,-1.0])\n",
    "#         c=np.array([0.5,1.0,2.0])\n",
    "#         #\n",
    "#         xx, yy, zz = np.meshgrid(deltas,b,c)\n",
    "#         plist = list(zip(xx.flatten(),yy.flatten(),zz.flatten()))\n",
    "#         print('num(ang. features)=%s'%(len(plist)))\n",
    "#         #\n",
    "#         t0=time.time()    \n",
    "#         structFuncAng = np.array(list(map(lambda x: angst.Get(*x),plist))).T\n",
    "#         print('apply parameters t=%s s'%(time.time()-t0))\n",
    "#         print('structFuncAng.shape=',structFuncAng.shape)\n"
   ]
  },
  {
   "cell_type": "markdown",
   "metadata": {},
   "source": [
    "### Plot"
   ]
  },
  {
   "cell_type": "code",
   "execution_count": 29,
   "metadata": {},
   "outputs": [
    {
     "data": {
      "image/png": "[encoded data removed]",
      "text/plain": [
       "<Figure size 288x288 with 1 Axes>"
      ]
     },
     "metadata": {
      "needs_background": "light"
     },
     "output_type": "display_data"
    },
    {
     "data": {
      "text/plain": [
       "<AxesSubplot:xlabel='$R_s$', ylabel='$G^1_i$'>"
      ]
     },
     "execution_count": 29,
     "metadata": {},
     "output_type": "execute_result"
    }
   ],
   "source": [
    "PltErr(rbars,structFuncRad[0,0:len(rbars)],\n",
    "       yerr=None,\n",
    "       xstr=r'$R_s$',\n",
    "       ystr=r'$G^1_i$',\n",
    "       title='%s/G1i.png'%path,\n",
    "      )"
   ]
  },
  {
   "cell_type": "code",
   "execution_count": null,
   "metadata": {},
   "outputs": [],
   "source": []
  }
 ],
 "metadata": {
  "kernelspec": {
   "display_name": "Python 3",
   "language": "python",
   "name": "python3"
  },
  "language_info": {
   "codemirror_mode": {
    "name": "ipython",
    "version": 3
   },
   "file_extension": ".py",
   "mimetype": "text/x-python",
   "name": "python",
   "nbconvert_exporter": "python",
   "pygments_lexer": "ipython3",
   "version": "3.9.5"
  }
 },
 "nbformat": 4,
 "nbformat_minor": 4
}
